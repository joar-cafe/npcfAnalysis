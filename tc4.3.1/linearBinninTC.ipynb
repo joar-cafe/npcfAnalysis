{
 "cells": [
  {
   "cell_type": "markdown",
   "id": "5ff970bb",
   "metadata": {},
   "source": [
    "# treecorr linear binning kkk \n",
    "This notebook stands to probe the linear binning modification for treecorr 4.3, making it 4.3.1. This is in the conda env tcExp"
   ]
  },
  {
   "cell_type": "code",
   "execution_count": 1,
   "id": "becd3ad7",
   "metadata": {},
   "outputs": [],
   "source": [
    "import numpy as np, treecorr as tc, fitsio"
   ]
  },
  {
   "cell_type": "code",
   "execution_count": 2,
   "id": "99eb03dc",
   "metadata": {},
   "outputs": [],
   "source": [
    "subcat=fitsio.read(\"./../check_npcf.jl/catalog_sub.fits\")"
   ]
  },
  {
   "cell_type": "code",
   "execution_count": 3,
   "id": "644105b5",
   "metadata": {},
   "outputs": [],
   "source": [
    "n=100\n",
    "cat=tc.Catalog(ra=subcat['phi'][:n],dec=subcat['theta'][:n],k=subcat['convergence'][:n],ra_units=\"deg\",dec_units=\"deg\")"
   ]
  },
  {
   "cell_type": "code",
   "execution_count": 4,
   "id": "e07fcb59",
   "metadata": {},
   "outputs": [],
   "source": [
    "nrbins=20;rmax=1;rmin=10**(-8);nubins=20;nvbins=10"
   ]
  },
  {
   "cell_type": "code",
   "execution_count": 5,
   "id": "2e167933",
   "metadata": {},
   "outputs": [
    {
     "name": "stdout",
     "output_type": "stream",
     "text": [
      "joar: self.ro.bin_type:LogRUV,type(self.ro.bint_ype):<class 'int'>,self._ro._bintype:1,type(self._ro._bintype):<class 'int'>\n",
      "r: nbins = 20, min,max sep = 1e-08..1, bin_size = 0.921034\n",
      "joar: whatis _sep_units: 1.0 \n",
      "type of _sep_units: <class 'float'>\n",
      "u: nbins = 20, min,max = 0..1, bin_size = 0.05\n",
      "v: nbins = 10, min,max = 0..1, bin_size = 0.1\n"
     ]
    }
   ],
   "source": [
    "corr=tc.KKKCorrelation(min_sep=rmin,max_sep=rmax,nbins=nrbins,nubins=nubins,nvbins=nvbins,verbose=2)"
   ]
  },
  {
   "cell_type": "markdown",
   "id": "81468af0",
   "metadata": {},
   "source": [
    "Since _sep_units is 1 (ie, float) this means that config.get returns it as float in binnedcorr3.py (line 319), in config get is in line 381"
   ]
  },
  {
   "cell_type": "code",
   "execution_count": 7,
   "id": "5e06fb40",
   "metadata": {},
   "outputs": [
    {
     "data": {
      "text/plain": [
       "False"
      ]
     },
     "execution_count": 7,
     "metadata": {},
     "output_type": "execute_result"
    }
   ],
   "source": [
    "isinstance(2,float)"
   ]
  },
  {
   "cell_type": "code",
   "execution_count": 10,
   "id": "d0da8170",
   "metadata": {},
   "outputs": [
    {
     "data": {
      "text/plain": [
       "True"
      ]
     },
     "execution_count": 10,
     "metadata": {},
     "output_type": "execute_result"
    }
   ],
   "source": [
    "\"get\" in dir({})"
   ]
  },
  {
   "cell_type": "code",
   "execution_count": 12,
   "id": "2c76cc49",
   "metadata": {},
   "outputs": [
    {
     "ename": "ImportError",
     "evalue": "attempted relative import with no known parent package",
     "output_type": "error",
     "traceback": [
      "\u001b[0;31m---------------------------------------------------------------------------\u001b[0m",
      "\u001b[0;31mImportError\u001b[0m                               Traceback (most recent call last)",
      "Input \u001b[0;32mIn [12]\u001b[0m, in \u001b[0;36m<cell line: 1>\u001b[0;34m()\u001b[0m\n\u001b[0;32m----> 1\u001b[0m \u001b[38;5;28;01mfrom\u001b[39;00m \u001b[38;5;21;01m.\u001b[39;00m \u001b[38;5;28;01mimport\u001b[39;00m _lib\n",
      "\u001b[0;31mImportError\u001b[0m: attempted relative import with no known parent package"
     ]
    }
   ],
   "source": [
    "from . import _lib"
   ]
  },
  {
   "cell_type": "code",
   "execution_count": null,
   "id": "ac67ad7c",
   "metadata": {},
   "outputs": [],
   "source": []
  }
 ],
 "metadata": {
  "kernelspec": {
   "display_name": "Python 3 (ipykernel)",
   "language": "python",
   "name": "python3"
  },
  "language_info": {
   "codemirror_mode": {
    "name": "ipython",
    "version": 3
   },
   "file_extension": ".py",
   "mimetype": "text/x-python",
   "name": "python",
   "nbconvert_exporter": "python",
   "pygments_lexer": "ipython3",
   "version": "3.9.12"
  }
 },
 "nbformat": 4,
 "nbformat_minor": 5
}
