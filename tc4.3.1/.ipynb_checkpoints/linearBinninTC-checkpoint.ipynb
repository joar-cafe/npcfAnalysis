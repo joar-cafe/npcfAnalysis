{
 "cells": [
  {
   "cell_type": "markdown",
   "id": "5ff970bb",
   "metadata": {},
   "source": [
    "# treecorr linear binning kkk \n",
    "This notebook stands to probe the linear binning modification for treecorr 4.3, making it 4.3.1. This is in the conda env tcExp"
   ]
  },
  {
   "cell_type": "code",
   "execution_count": 1,
   "id": "becd3ad7",
   "metadata": {},
   "outputs": [
    {
     "name": "stdout",
     "output_type": "stream",
     "text": [
      "found path for lib_file(treecorr*.so) at: ['/home/joar/anaconda3/envs/tcExp/lib/python3.9/site-packages/TreeCorr-4.3.1-py3.9-linux-x86_64.egg/treecorr/_treecorr.cpython-39-x86_64-linux-gnu.so']\n",
      "leyendo /home/joar/anaconda3/envs/tcExp/lib/python3.9/site-packages/TreeCorr-4.3.1-py3.9-linux-x86_64.egg/treecorr/include/BinType_C.h con el comando de c read.()\n",
      "leyendo /home/joar/anaconda3/envs/tcExp/lib/python3.9/site-packages/TreeCorr-4.3.1-py3.9-linux-x86_64.egg/treecorr/include/BinnedCorr2_C.h con el comando de c read.()\n",
      "leyendo /home/joar/anaconda3/envs/tcExp/lib/python3.9/site-packages/TreeCorr-4.3.1-py3.9-linux-x86_64.egg/treecorr/include/BinnedCorr3_C.h con el comando de c read.()\n",
      "leyendo /home/joar/anaconda3/envs/tcExp/lib/python3.9/site-packages/TreeCorr-4.3.1-py3.9-linux-x86_64.egg/treecorr/include/Position_C.h con el comando de c read.()\n",
      "leyendo /home/joar/anaconda3/envs/tcExp/lib/python3.9/site-packages/TreeCorr-4.3.1-py3.9-linux-x86_64.egg/treecorr/include/Field_C.h con el comando de c read.()\n",
      "leyendo /home/joar/anaconda3/envs/tcExp/lib/python3.9/site-packages/TreeCorr-4.3.1-py3.9-linux-x86_64.egg/treecorr/include/Metric_C.h con el comando de c read.()\n",
      "que es lib_file, porque es lo que esta abriedno cffi.FFI.dlopen: /home/joar/anaconda3/envs/tcExp/lib/python3.9/site-packages/TreeCorr-4.3.1-py3.9-linux-x86_64.egg/treecorr/_treecorr.cpython-39-x86_64-linux-gnu.so\n"
     ]
    }
   ],
   "source": [
    "import numpy as np, treecorr as tc, fitsio"
   ]
  },
  {
   "cell_type": "code",
   "execution_count": 2,
   "id": "99eb03dc",
   "metadata": {},
   "outputs": [],
   "source": [
    "subcat=fitsio.read(\"./../check_npcf.jl/catalog_sub.fits\")"
   ]
  },
  {
   "cell_type": "code",
   "execution_count": 3,
   "id": "644105b5",
   "metadata": {},
   "outputs": [],
   "source": [
    "n=100\n",
    "cat=tc.Catalog(ra=subcat['phi'][:n],dec=subcat['theta'][:n],k=subcat['convergence'][:n],ra_units=\"deg\",dec_units=\"deg\")"
   ]
  },
  {
   "cell_type": "code",
   "execution_count": 4,
   "id": "e07fcb59",
   "metadata": {},
   "outputs": [],
   "source": [
    "nrbins=20;rmax=1;rmin=10**(-8);nubins=20;nvbins=10"
   ]
  },
  {
   "cell_type": "code",
   "execution_count": 5,
   "id": "2e167933",
   "metadata": {},
   "outputs": [
    {
     "name": "stdout",
     "output_type": "stream",
     "text": [
      "joar: self.ro.bin_type:LogRUV,type(self.ro.bint_ype):<class 'int'>,self._ro._bintype:1,type(self._ro._bintype):<class 'int'>\n",
      "\n",
      "\n",
      "self._ro.sep_units = \n",
      "type(self._ro.sep_units) = <class 'str'>\n",
      "self._ro.sep_units == None = False\n",
      "\n",
      "self._ro._sep_units = 1.0\n",
      "self._sep_units: 1.0\n",
      "r: nbins = 20, min,max sep = 1e-08..1, bin_size = 0.921034\n",
      "joar: whatis _sep_units: 1.0 \n",
      "type of _sep_units: <class 'float'>\n",
      "u: nbins = 20, min,max = 0..1, bin_size = 0.05\n",
      "v: nbins = 10, min,max = 0..1, bin_size = 0.1\n"
     ]
    }
   ],
   "source": [
    "corr=tc.KKKCorrelation(min_sep=rmin,max_sep=rmax,nbins=nrbins,nubins=nubins,nvbins=nvbins,verbose=2)"
   ]
  },
  {
   "cell_type": "markdown",
   "id": "81468af0",
   "metadata": {},
   "source": [
    "Since _sep_units is 1 (ie, float) this means that config.get returns it as float in binnedcorr3.py (line 319), in config get is in line 381"
   ]
  },
  {
   "cell_type": "code",
   "execution_count": null,
   "id": "07617e38",
   "metadata": {},
   "outputs": [],
   "source": []
  }
 ],
 "metadata": {
  "kernelspec": {
   "display_name": "Python 3 (ipykernel)",
   "language": "python",
   "name": "python3"
  },
  "language_info": {
   "codemirror_mode": {
    "name": "ipython",
    "version": 3
   },
   "file_extension": ".py",
   "mimetype": "text/x-python",
   "name": "python",
   "nbconvert_exporter": "python",
   "pygments_lexer": "ipython3",
   "version": "3.9.12"
  }
 },
 "nbformat": 4,
 "nbformat_minor": 5
}
