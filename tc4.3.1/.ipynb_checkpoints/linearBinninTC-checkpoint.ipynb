{
 "cells": [
  {
   "cell_type": "markdown",
   "id": "5ff970bb",
   "metadata": {},
   "source": [
    "# treecorr linear binning kkk \n",
    "This notebook stands to probe the linear binning modification for treecorr 4.3, making it 4.3.1. This is in the conda env tcExp"
   ]
  },
  {
   "cell_type": "code",
   "execution_count": 2,
   "id": "becd3ad7",
   "metadata": {},
   "outputs": [],
   "source": [
    "import numpy as np, treecorr as tc, fitsio"
   ]
  },
  {
   "cell_type": "code",
   "execution_count": 3,
   "id": "99eb03dc",
   "metadata": {},
   "outputs": [],
   "source": [
    "subcat=fitsio.read(\"./../check_npcf.jl/catalog_sub.fits\")"
   ]
  },
  {
   "cell_type": "code",
   "execution_count": 4,
   "id": "644105b5",
   "metadata": {},
   "outputs": [],
   "source": [
    "n=100\n",
    "cat=tc.Catalog(ra=subcat['phi'][:n],dec=subcat['theta'][:n],k=subcat['convergence'][:n],ra_units=\"deg\",dec_units=\"deg\")"
   ]
  },
  {
   "cell_type": "code",
   "execution_count": 5,
   "id": "e07fcb59",
   "metadata": {},
   "outputs": [],
   "source": [
    "nrbins=20;rmax=1;rmin=10**(-8);nubins=20;nvbins=10"
   ]
  },
  {
   "cell_type": "code",
   "execution_count": 6,
   "id": "2e167933",
   "metadata": {},
   "outputs": [
    {
     "name": "stdout",
     "output_type": "stream",
     "text": [
      "r: nbins = 20, min,max sep = 1e-08..1, bin_size = 0.921034\n",
      "joar: whatis _sep_units: 1.0 \n",
      "type of _sep_units: <class 'float'>\n",
      "u: nbins = 20, min,max = 0..1, bin_size = 0.05\n",
      "v: nbins = 10, min,max = 0..1, bin_size = 0.1\n"
     ]
    }
   ],
   "source": [
    "corr=tc.KKKCorrelation(min_sep=rmin,max_sep=rmax,nbins=nrbins,nubins=nubins,nvbins=nvbins,verbose=2)"
   ]
  },
  {
   "cell_type": "markdown",
   "id": "81468af0",
   "metadata": {},
   "source": [
    "Since _sep_units is 1 (ie, float) this means that config.get returns it as float in binnedcorr3.py (line 319), in config get is in line 381"
   ]
  },
  {
   "cell_type": "code",
   "execution_count": null,
   "id": "5e06fb40",
   "metadata": {},
   "outputs": [],
   "source": []
  }
 ],
 "metadata": {
  "kernelspec": {
   "display_name": "Python 3 (ipykernel)",
   "language": "python",
   "name": "python3"
  },
  "language_info": {
   "codemirror_mode": {
    "name": "ipython",
    "version": 3
   },
   "file_extension": ".py",
   "mimetype": "text/x-python",
   "name": "python",
   "nbconvert_exporter": "python",
   "pygments_lexer": "ipython3",
   "version": "3.9.12"
  }
 },
 "nbformat": 4,
 "nbformat_minor": 5
}
